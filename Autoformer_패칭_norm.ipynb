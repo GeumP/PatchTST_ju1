{
  "cells": [
    {
      "cell_type": "markdown",
      "metadata": {
        "id": "view-in-github",
        "colab_type": "text"
      },
      "source": [
        "<a href=\"https://colab.research.google.com/github/2Ju1/PatchTST_ju1/blob/main/Autoformer_%ED%8C%A8%EC%B9%AD_norm.ipynb\" target=\"_parent\"><img src=\"https://colab.research.google.com/assets/colab-badge.svg\" alt=\"Open In Colab\"/></a>"
      ]
    },
    {
      "cell_type": "code",
      "execution_count": null,
      "id": "f9020021",
      "metadata": {
        "id": "f9020021"
      },
      "outputs": [],
      "source": [
        "import numpy as np\n",
        "import random\n",
        "import torch"
      ]
    },
    {
      "cell_type": "code",
      "execution_count": null,
      "id": "4907b0dd",
      "metadata": {
        "id": "4907b0dd"
      },
      "outputs": [],
      "source": [
        "L=100\n",
        "P=10\n",
        "S=5\n",
        "\n",
        "input_array=np.random.normal(0,1,(1,L))"
      ]
    },
    {
      "cell_type": "code",
      "source": [
        "print(input_array)"
      ],
      "metadata": {
        "colab": {
          "base_uri": "https://localhost:8080/"
        },
        "id": "HlojExXLmTp7",
        "outputId": "59ac98b4-bffa-4437-d2a2-c662433e3381"
      },
      "id": "HlojExXLmTp7",
      "execution_count": null,
      "outputs": [
        {
          "output_type": "stream",
          "name": "stdout",
          "text": [
            "[[ 0.54413868 -0.68388191  0.17558524  0.47884909 -0.48752208 -0.78661249\n",
            "   0.53643252  0.65818659  0.19425767  0.33752728 -0.44373401 -0.32490769\n",
            "  -1.0106755  -0.36690638  0.2504273  -0.5359753   0.41312786 -0.04004461\n",
            "   0.52416085  1.29361039  1.1922728  -0.64220371  0.34933444  0.67808058\n",
            "   0.69765177  1.32600475 -0.81077977  0.65366018  0.5889245   1.27745074\n",
            "  -0.80689413 -0.21334395 -0.83984101  0.13644202 -2.78374269 -1.06394083\n",
            "  -0.62052153  0.86908581  1.49478717  2.29283895  0.28830759  0.09206349\n",
            "  -1.43604422 -0.51367024 -0.66699109  0.10539186 -0.539436    1.88426368\n",
            "  -0.09670585 -0.33394471 -0.64062982  1.40833963  1.32836863 -0.12547111\n",
            "  -0.38658948 -0.4732226   1.01072656  1.84445352 -0.64244441 -1.07950521\n",
            "   0.82501692 -2.26083314 -0.30621323  0.23588521 -0.13547829  0.51965806\n",
            "  -1.14431457  0.04629253  0.92119721 -0.69983845  1.381779    0.75377512\n",
            "   0.26306095  1.36503626 -0.55800626 -0.69132942  0.55739611 -0.14366337\n",
            "  -1.47652809 -1.01634762  2.29992152 -0.02622394  0.42513948 -0.29406428\n",
            "   0.59184041 -0.45686813  0.30009295 -0.2997895   0.99485701 -0.55906728\n",
            "   0.14305695  0.24689793 -1.15609296 -1.35096743  0.86890802  1.88905355\n",
            "  -0.10014608 -1.47986196  0.01947453  0.1194869 ]]\n"
          ]
        }
      ]
    },
    {
      "cell_type": "code",
      "source": [
        "print(input_array[0,5:9])\n"
      ],
      "metadata": {
        "colab": {
          "base_uri": "https://localhost:8080/"
        },
        "id": "u3hs4wZalbeB",
        "outputId": "18ce6da2-3d84-4105-f1c0-57873145ee2d"
      },
      "id": "u3hs4wZalbeB",
      "execution_count": null,
      "outputs": [
        {
          "output_type": "stream",
          "name": "stdout",
          "text": [
            "[2.07450632 0.84183971 0.87802194 0.8879371 ]\n"
          ]
        }
      ]
    },
    {
      "cell_type": "code",
      "execution_count": null,
      "id": "d9ae0c7b",
      "metadata": {
        "id": "d9ae0c7b"
      },
      "outputs": [],
      "source": [
        "def Patching(input_array,L,P,S):\n",
        "  N=int((L-P)/S)+2\n",
        "  output_array=torch.empty(N,P)\n",
        "  last_S = input_array[-1:, -S:]\n",
        "  input_array = np.concatenate((input_array, last_S), axis=1)\n",
        "  for i in range(N):\n",
        "    start_index = i * S\n",
        "    end_index = start_index + P\n",
        "    output_array[i,:]=torch.tensor(input_array[0, start_index:end_index])\n",
        "  return output_array\n",
        "\n",
        "input_array=Patching(input_array,L,P,S)\n",
        "# 1*L크기의 numpy input array\n",
        "#Patching을 거쳐 쪼개진 N*P 크기의 array\n"
      ]
    },
    {
      "cell_type": "code",
      "execution_count": null,
      "id": "3f6cfecc",
      "metadata": {
        "colab": {
          "base_uri": "https://localhost:8080/"
        },
        "id": "3f6cfecc",
        "outputId": "f34e9916-ac4d-44e6-e470-260e33f70757"
      },
      "outputs": [
        {
          "output_type": "stream",
          "name": "stdout",
          "text": [
            "tensor([[-0.2490, -0.3962,  0.3429, -0.2758,  0.1729, -0.1847, -0.6383, -0.0283,\n",
            "         -0.3051,  0.1484],\n",
            "        [-0.1669, -0.5768, -0.0256, -0.2757,  0.1341,  0.0781, -0.5810,  0.0242,\n",
            "          0.1660, -0.4159],\n",
            "        [ 0.0878, -0.6528,  0.0272,  0.1865, -0.4673, -0.0249,  0.1569,  0.1784,\n",
            "         -0.3978, -0.3114],\n",
            "        [-0.0306,  0.1928,  0.2192, -0.4887, -0.3826,  0.0373, -0.3589,  0.0020,\n",
            "          0.6244,  0.0931],\n",
            "        [ 0.0373, -0.3591,  0.0020,  0.6247,  0.0931, -0.0802, -0.5170, -0.3716,\n",
            "         -0.0121,  0.2426],\n",
            "        [-0.0693, -0.4466, -0.3210, -0.0104,  0.2095, -0.3610,  0.2785,  0.3855,\n",
            "          0.5396, -0.0309],\n",
            "        [-0.3716,  0.2868,  0.3969,  0.5556, -0.0318,  0.4469, -0.2542,  0.1774,\n",
            "          0.1209,  0.0456],\n",
            "        [ 0.6313, -0.3591,  0.2507,  0.1708,  0.0644,  0.0552, -0.3845, -0.0502,\n",
            "         -0.0428, -0.4702],\n",
            "        [ 0.0763, -0.5309, -0.0694, -0.0591, -0.6493, -0.0110,  0.0905, -0.1451,\n",
            "         -0.3954,  0.3110],\n",
            "        [-0.0093,  0.0761, -0.1220, -0.3325,  0.2615, -0.0897, -0.7625, -0.3367,\n",
            "         -0.2886, -0.1193],\n",
            "        [-0.0620, -0.5270, -0.2328, -0.1995, -0.0824,  0.6905, -0.0139, -0.3670,\n",
            "         -0.0713,  0.0283],\n",
            "        [ 0.6552, -0.0132, -0.3483, -0.0676,  0.0268,  0.2909, -0.4009,  0.2003,\n",
            "          0.3461, -0.1966],\n",
            "        [ 0.3259, -0.4491,  0.2244,  0.3878, -0.2203, -0.0662, -0.1909,  0.1521,\n",
            "          0.3381,  0.5144],\n",
            "        [-0.0580, -0.1674,  0.1333,  0.2964,  0.4509,  0.0461,  0.1257,  0.4931,\n",
            "          0.4445, -0.4483],\n",
            "        [ 0.0458,  0.1249,  0.4898,  0.4415, -0.4453,  0.3735, -0.3110,  0.1886,\n",
            "         -0.1486, -0.2352],\n",
            "        [ 0.3905, -0.3252,  0.1972, -0.1553, -0.2458, -0.6230, -0.3000,  0.0579,\n",
            "          0.1958,  0.3139],\n",
            "        [-0.5628, -0.2710,  0.0523,  0.1769,  0.2836,  0.1795, -0.5942,  0.1499,\n",
            "          0.1455, -0.2575],\n",
            "        [ 0.2108, -0.6977,  0.1760,  0.1708, -0.3024,  0.0477,  0.3820,  0.3759,\n",
            "          0.0624, -0.1544],\n",
            "        [ 0.0486,  0.3887,  0.3825,  0.0635, -0.1572, -0.1377,  0.5103,  0.3009,\n",
            "         -0.4015, -0.3746],\n",
            "        [-0.1188,  0.4404,  0.2597, -0.3465, -0.3232, -0.1188,  0.4404,  0.2597,\n",
            "         -0.3465, -0.3232]])\n"
          ]
        }
      ],
      "source": [
        "import torch.nn.functional as F\n",
        "def Instance_Norm(input_array):\n",
        "  output_array= F.normalize(input_array, dim=1)\n",
        "  return output_array\n",
        "\n",
        "input_array=Instance_Norm(input_array)\n",
        "print(input_array)\n",
        "# N*P크기의 array\n",
        "\n",
        "#normalization이 거쳐진 N*P 크기의 array\n"
      ]
    }
  ],
  "metadata": {
    "kernelspec": {
      "display_name": "Python 3 (ipykernel)",
      "language": "python",
      "name": "python3"
    },
    "language_info": {
      "codemirror_mode": {
        "name": "ipython",
        "version": 3
      },
      "file_extension": ".py",
      "mimetype": "text/x-python",
      "name": "python",
      "nbconvert_exporter": "python",
      "pygments_lexer": "ipython3",
      "version": "3.10.9"
    },
    "colab": {
      "provenance": [],
      "include_colab_link": true
    }
  },
  "nbformat": 4,
  "nbformat_minor": 5
}